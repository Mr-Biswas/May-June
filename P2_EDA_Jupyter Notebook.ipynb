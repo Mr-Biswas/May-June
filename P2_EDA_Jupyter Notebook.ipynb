{
 "cells": [
  {
   "cell_type": "code",
   "execution_count": 1,
   "id": "b7cbfe7b-0888-4496-8185-41b199d41a7e",
   "metadata": {},
   "outputs": [
    {
     "name": "stdout",
     "output_type": "stream",
     "text": [
      "Welcome to Python Automation using ETL process\n"
     ]
    }
   ],
   "source": [
    "print(\"Welcome to Python Automation using ETL process\")"
   ]
  },
  {
   "cell_type": "code",
   "execution_count": 2,
   "id": "2d781511-9bfb-4e52-ab87-20d5b8debc97",
   "metadata": {},
   "outputs": [],
   "source": [
    "import numpy as np\n",
    "import pandas as pd\n",
    "import matplotlib as plt"
   ]
  },
  {
   "cell_type": "markdown",
   "id": "eacaf63b-a499-4543-89f4-6bb421f75e1b",
   "metadata": {},
   "source": [
    "#Extract the Data from Flat File"
   ]
  },
  {
   "cell_type": "code",
   "execution_count": 3,
   "id": "b200139f-6bc7-4e68-81e0-fcc9cf017659",
   "metadata": {},
   "outputs": [],
   "source": [
    "df=pd.read_csv('TargetTransac.csv',encoding='latin1')"
   ]
  },
  {
   "cell_type": "code",
   "execution_count": 4,
   "id": "aa7431cb-4fd5-439d-bfdb-a4243a99184e",
   "metadata": {},
   "outputs": [
    {
     "data": {
      "text/html": [
       "<div>\n",
       "<style scoped>\n",
       "    .dataframe tbody tr th:only-of-type {\n",
       "        vertical-align: middle;\n",
       "    }\n",
       "\n",
       "    .dataframe tbody tr th {\n",
       "        vertical-align: top;\n",
       "    }\n",
       "\n",
       "    .dataframe thead th {\n",
       "        text-align: right;\n",
       "    }\n",
       "</style>\n",
       "<table border=\"1\" class=\"dataframe\">\n",
       "  <thead>\n",
       "    <tr style=\"text-align: right;\">\n",
       "      <th></th>\n",
       "      <th>row</th>\n",
       "      <th>orderid</th>\n",
       "      <th>orderdate</th>\n",
       "      <th>ordermonth</th>\n",
       "      <th>ship_date</th>\n",
       "      <th>delay</th>\n",
       "      <th>ship_mode</th>\n",
       "      <th>cust_id</th>\n",
       "      <th>cust_name</th>\n",
       "      <th>segment</th>\n",
       "      <th>...</th>\n",
       "      <th>category</th>\n",
       "      <th>sub_category</th>\n",
       "      <th>product_name</th>\n",
       "      <th>sales</th>\n",
       "      <th>quantity</th>\n",
       "      <th>discount</th>\n",
       "      <th>profit</th>\n",
       "      <th>Unnamed: 23</th>\n",
       "      <th>Unnamed: 24</th>\n",
       "      <th>Unnamed: 25</th>\n",
       "    </tr>\n",
       "  </thead>\n",
       "  <tbody>\n",
       "    <tr>\n",
       "      <th>0</th>\n",
       "      <td>1</td>\n",
       "      <td>CA-2016-152156</td>\n",
       "      <td>08-11-2016</td>\n",
       "      <td>Nov</td>\n",
       "      <td>11-11-2016</td>\n",
       "      <td>3</td>\n",
       "      <td>Second Class</td>\n",
       "      <td>CG-12520</td>\n",
       "      <td>Claire Gute</td>\n",
       "      <td>Consumer</td>\n",
       "      <td>...</td>\n",
       "      <td>Furniture</td>\n",
       "      <td>Bookcases</td>\n",
       "      <td>Bush Somerset Collection Bookcase</td>\n",
       "      <td>261.96</td>\n",
       "      <td>2.0</td>\n",
       "      <td>0.0</td>\n",
       "      <td>41.9136</td>\n",
       "      <td>NaN</td>\n",
       "      <td>NaN</td>\n",
       "      <td>NaN</td>\n",
       "    </tr>\n",
       "    <tr>\n",
       "      <th>1</th>\n",
       "      <td>2</td>\n",
       "      <td>CA-2016-152156</td>\n",
       "      <td>08-11-2016</td>\n",
       "      <td>Nov</td>\n",
       "      <td>11-11-2016</td>\n",
       "      <td>3</td>\n",
       "      <td>Second Class</td>\n",
       "      <td>CG-12520</td>\n",
       "      <td>Claire Gute</td>\n",
       "      <td>Consumer</td>\n",
       "      <td>...</td>\n",
       "      <td>Furniture</td>\n",
       "      <td>Chairs</td>\n",
       "      <td>Hon Deluxe Fabric Upholstered Stacking Chairs,...</td>\n",
       "      <td>731.94</td>\n",
       "      <td>3.0</td>\n",
       "      <td>0.0</td>\n",
       "      <td>219.5820</td>\n",
       "      <td>NaN</td>\n",
       "      <td>NaN</td>\n",
       "      <td>NaN</td>\n",
       "    </tr>\n",
       "    <tr>\n",
       "      <th>2</th>\n",
       "      <td>3</td>\n",
       "      <td>CA-2016-138688</td>\n",
       "      <td>12-06-2016</td>\n",
       "      <td>Jun</td>\n",
       "      <td>16-06-2016</td>\n",
       "      <td>4</td>\n",
       "      <td>Second Class</td>\n",
       "      <td>DV-13045</td>\n",
       "      <td>Darrin Van Huff</td>\n",
       "      <td>Corporate</td>\n",
       "      <td>...</td>\n",
       "      <td>Office Supplies</td>\n",
       "      <td>Labels</td>\n",
       "      <td>Self-Adhesive Address Labels for Typewriters b...</td>\n",
       "      <td>14.62</td>\n",
       "      <td>2.0</td>\n",
       "      <td>0.0</td>\n",
       "      <td>6.8714</td>\n",
       "      <td>NaN</td>\n",
       "      <td>NaN</td>\n",
       "      <td>NaN</td>\n",
       "    </tr>\n",
       "  </tbody>\n",
       "</table>\n",
       "<p>3 rows × 26 columns</p>\n",
       "</div>"
      ],
      "text/plain": [
       "   row         orderid   orderdate ordermonth   ship_date  delay  \\\n",
       "0    1  CA-2016-152156  08-11-2016        Nov  11-11-2016      3   \n",
       "1    2  CA-2016-152156  08-11-2016        Nov  11-11-2016      3   \n",
       "2    3  CA-2016-138688  12-06-2016        Jun  16-06-2016      4   \n",
       "\n",
       "      ship_mode   cust_id        cust_name    segment  ...         category  \\\n",
       "0  Second Class  CG-12520      Claire Gute   Consumer  ...        Furniture   \n",
       "1  Second Class  CG-12520      Claire Gute   Consumer  ...        Furniture   \n",
       "2  Second Class  DV-13045  Darrin Van Huff  Corporate  ...  Office Supplies   \n",
       "\n",
       "  sub_category                                       product_name   sales  \\\n",
       "0    Bookcases                  Bush Somerset Collection Bookcase  261.96   \n",
       "1       Chairs  Hon Deluxe Fabric Upholstered Stacking Chairs,...  731.94   \n",
       "2       Labels  Self-Adhesive Address Labels for Typewriters b...   14.62   \n",
       "\n",
       "  quantity discount    profit Unnamed: 23 Unnamed: 24  Unnamed: 25  \n",
       "0      2.0      0.0   41.9136         NaN         NaN          NaN  \n",
       "1      3.0      0.0  219.5820         NaN         NaN          NaN  \n",
       "2      2.0      0.0    6.8714         NaN         NaN          NaN  \n",
       "\n",
       "[3 rows x 26 columns]"
      ]
     },
     "execution_count": 4,
     "metadata": {},
     "output_type": "execute_result"
    }
   ],
   "source": [
    "df.head(3)"
   ]
  },
  {
   "cell_type": "code",
   "execution_count": 5,
   "id": "62a733cb-2c40-42f1-badc-875f0057ca3c",
   "metadata": {},
   "outputs": [
    {
     "data": {
      "text/html": [
       "<div>\n",
       "<style scoped>\n",
       "    .dataframe tbody tr th:only-of-type {\n",
       "        vertical-align: middle;\n",
       "    }\n",
       "\n",
       "    .dataframe tbody tr th {\n",
       "        vertical-align: top;\n",
       "    }\n",
       "\n",
       "    .dataframe thead th {\n",
       "        text-align: right;\n",
       "    }\n",
       "</style>\n",
       "<table border=\"1\" class=\"dataframe\">\n",
       "  <thead>\n",
       "    <tr style=\"text-align: right;\">\n",
       "      <th></th>\n",
       "      <th>row</th>\n",
       "      <th>orderid</th>\n",
       "      <th>orderdate</th>\n",
       "      <th>ordermonth</th>\n",
       "      <th>ship_date</th>\n",
       "      <th>delay</th>\n",
       "      <th>ship_mode</th>\n",
       "      <th>cust_id</th>\n",
       "      <th>cust_name</th>\n",
       "      <th>segment</th>\n",
       "      <th>...</th>\n",
       "      <th>category</th>\n",
       "      <th>sub_category</th>\n",
       "      <th>product_name</th>\n",
       "      <th>sales</th>\n",
       "      <th>quantity</th>\n",
       "      <th>discount</th>\n",
       "      <th>profit</th>\n",
       "      <th>Unnamed: 23</th>\n",
       "      <th>Unnamed: 24</th>\n",
       "      <th>Unnamed: 25</th>\n",
       "    </tr>\n",
       "  </thead>\n",
       "  <tbody>\n",
       "    <tr>\n",
       "      <th>10207</th>\n",
       "      <td>8323</td>\n",
       "      <td>CA-2016-130778</td>\n",
       "      <td>19-11-2016</td>\n",
       "      <td>Nov</td>\n",
       "      <td>25-11-2016</td>\n",
       "      <td>6</td>\n",
       "      <td>Standard Class</td>\n",
       "      <td>ND-18370</td>\n",
       "      <td>Natalie DeCherney</td>\n",
       "      <td>Consumer</td>\n",
       "      <td>...</td>\n",
       "      <td>Office Supplies</td>\n",
       "      <td>Appliances</td>\n",
       "      <td>Disposable Triple-Filter Dust Bags</td>\n",
       "      <td>8.74</td>\n",
       "      <td>2.0</td>\n",
       "      <td>0.0</td>\n",
       "      <td>2.2724</td>\n",
       "      <td>NaN</td>\n",
       "      <td>NaN</td>\n",
       "      <td>NaN</td>\n",
       "    </tr>\n",
       "    <tr>\n",
       "      <th>10208</th>\n",
       "      <td>8324</td>\n",
       "      <td>CA-2016-130778</td>\n",
       "      <td>19-11-2016</td>\n",
       "      <td>Nov</td>\n",
       "      <td>25-11-2016</td>\n",
       "      <td>6</td>\n",
       "      <td>Standard Class</td>\n",
       "      <td>ND-18370</td>\n",
       "      <td>Natalie DeCherney</td>\n",
       "      <td>Consumer</td>\n",
       "      <td>...</td>\n",
       "      <td>Office Supplies</td>\n",
       "      <td>Paper</td>\n",
       "      <td>Recycled Desk Saver Line \"While You Were Out\" ...</td>\n",
       "      <td>44.75</td>\n",
       "      <td>5.0</td>\n",
       "      <td>0.0</td>\n",
       "      <td>20.5850</td>\n",
       "      <td>NaN</td>\n",
       "      <td>NaN</td>\n",
       "      <td>NaN</td>\n",
       "    </tr>\n",
       "    <tr>\n",
       "      <th>10209</th>\n",
       "      <td>8325</td>\n",
       "      <td>CA-2017-144456</td>\n",
       "      <td>08-09-2017</td>\n",
       "      <td>Sep</td>\n",
       "      <td>09-09-2017</td>\n",
       "      <td>1</td>\n",
       "      <td>First Class</td>\n",
       "      <td>FC-14245</td>\n",
       "      <td>Frank Carlisle</td>\n",
       "      <td>Home Office</td>\n",
       "      <td>...</td>\n",
       "      <td>Office Supplies</td>\n",
       "      <td>Storage</td>\n",
       "      <td>Decoflex Hanging Personal Folder File, Blue</td>\n",
       "      <td>61.68</td>\n",
       "      <td>5.0</td>\n",
       "      <td>0.2</td>\n",
       "      <td>5.3970</td>\n",
       "      <td>NaN</td>\n",
       "      <td>NaN</td>\n",
       "      <td>NaN</td>\n",
       "    </tr>\n",
       "  </tbody>\n",
       "</table>\n",
       "<p>3 rows × 26 columns</p>\n",
       "</div>"
      ],
      "text/plain": [
       "        row         orderid   orderdate ordermonth   ship_date  delay  \\\n",
       "10207  8323  CA-2016-130778  19-11-2016        Nov  25-11-2016      6   \n",
       "10208  8324  CA-2016-130778  19-11-2016        Nov  25-11-2016      6   \n",
       "10209  8325  CA-2017-144456  08-09-2017        Sep  09-09-2017      1   \n",
       "\n",
       "            ship_mode   cust_id          cust_name      segment  ...  \\\n",
       "10207  Standard Class  ND-18370  Natalie DeCherney     Consumer  ...   \n",
       "10208  Standard Class  ND-18370  Natalie DeCherney     Consumer  ...   \n",
       "10209     First Class  FC-14245     Frank Carlisle  Home Office  ...   \n",
       "\n",
       "              category sub_category  \\\n",
       "10207  Office Supplies   Appliances   \n",
       "10208  Office Supplies        Paper   \n",
       "10209  Office Supplies      Storage   \n",
       "\n",
       "                                            product_name  sales quantity  \\\n",
       "10207                 Disposable Triple-Filter Dust Bags   8.74      2.0   \n",
       "10208  Recycled Desk Saver Line \"While You Were Out\" ...  44.75      5.0   \n",
       "10209        Decoflex Hanging Personal Folder File, Blue  61.68      5.0   \n",
       "\n",
       "      discount   profit Unnamed: 23 Unnamed: 24  Unnamed: 25  \n",
       "10207      0.0   2.2724         NaN         NaN          NaN  \n",
       "10208      0.0  20.5850         NaN         NaN          NaN  \n",
       "10209      0.2   5.3970         NaN         NaN          NaN  \n",
       "\n",
       "[3 rows x 26 columns]"
      ]
     },
     "execution_count": 5,
     "metadata": {},
     "output_type": "execute_result"
    }
   ],
   "source": [
    "df.tail(3)"
   ]
  },
  {
   "cell_type": "code",
   "execution_count": 6,
   "id": "0a70c956-4c28-4ce1-9364-cc3efeed175f",
   "metadata": {},
   "outputs": [
    {
     "data": {
      "text/plain": [
       "(10210, 26)"
      ]
     },
     "execution_count": 6,
     "metadata": {},
     "output_type": "execute_result"
    }
   ],
   "source": [
    "df.shape"
   ]
  },
  {
   "cell_type": "code",
   "execution_count": 7,
   "id": "267d1510-9c6f-4d81-9590-ab55f4e6ab67",
   "metadata": {},
   "outputs": [
    {
     "name": "stdout",
     "output_type": "stream",
     "text": [
      "<class 'pandas.core.frame.DataFrame'>\n",
      "RangeIndex: 10210 entries, 0 to 10209\n",
      "Data columns (total 26 columns):\n",
      " #   Column        Non-Null Count  Dtype  \n",
      "---  ------        --------------  -----  \n",
      " 0   row           10210 non-null  int64  \n",
      " 1   orderid       10210 non-null  object \n",
      " 2   orderdate     10210 non-null  object \n",
      " 3   ordermonth    10210 non-null  object \n",
      " 4   ship_date     10210 non-null  object \n",
      " 5   delay         10210 non-null  int64  \n",
      " 6   ship_mode     10210 non-null  object \n",
      " 7   cust_id       10210 non-null  object \n",
      " 8   cust_name     10210 non-null  object \n",
      " 9   segment       10210 non-null  object \n",
      " 10  country       10210 non-null  object \n",
      " 11  city          10210 non-null  object \n",
      " 12  state         10210 non-null  object \n",
      " 13  postal_code   10210 non-null  int64  \n",
      " 14  region        10210 non-null  object \n",
      " 15  product_id    10210 non-null  object \n",
      " 16  category      10210 non-null  object \n",
      " 17  sub_category  10210 non-null  object \n",
      " 18  product_name  10210 non-null  object \n",
      " 19  sales         10200 non-null  float64\n",
      " 20  quantity      10200 non-null  float64\n",
      " 21  discount      10199 non-null  float64\n",
      " 22  profit        10194 non-null  float64\n",
      " 23  Unnamed: 23   0 non-null      float64\n",
      " 24  Unnamed: 24   0 non-null      float64\n",
      " 25  Unnamed: 25   1 non-null      float64\n",
      "dtypes: float64(7), int64(3), object(16)\n",
      "memory usage: 2.0+ MB\n"
     ]
    }
   ],
   "source": [
    "df.info()"
   ]
  },
  {
   "cell_type": "code",
   "execution_count": 8,
   "id": "476684b8-0c4f-4580-a172-3129c0785f39",
   "metadata": {},
   "outputs": [
    {
     "data": {
      "text/plain": [
       "Index(['row', 'orderid', 'orderdate', 'ordermonth', 'ship_date', 'delay',\n",
       "       'ship_mode', 'cust_id', 'cust_name', 'segment', 'country', 'city',\n",
       "       'state', 'postal_code', 'region', 'product_id', 'category',\n",
       "       'sub_category', 'product_name', 'sales', 'quantity', 'discount',\n",
       "       'profit', 'Unnamed: 23', 'Unnamed: 24', 'Unnamed: 25'],\n",
       "      dtype='object')"
      ]
     },
     "execution_count": 8,
     "metadata": {},
     "output_type": "execute_result"
    }
   ],
   "source": [
    "df.columns"
   ]
  },
  {
   "cell_type": "markdown",
   "id": "0ea83143-7337-43d8-8e75-87ef6f0a7eec",
   "metadata": {},
   "source": [
    "#Transform the Dataset || Data Preprocessing"
   ]
  },
  {
   "cell_type": "code",
   "execution_count": 9,
   "id": "ddcd61db-5b9f-4daf-aff9-7b2ebb289121",
   "metadata": {},
   "outputs": [
    {
     "data": {
      "text/plain": [
       "216"
      ]
     },
     "execution_count": 9,
     "metadata": {},
     "output_type": "execute_result"
    }
   ],
   "source": [
    "df.duplicated().sum()"
   ]
  },
  {
   "cell_type": "code",
   "execution_count": 10,
   "id": "ad7e5739-d01a-4675-b42f-16253ca25967",
   "metadata": {},
   "outputs": [],
   "source": [
    "df.drop_duplicates(inplace=True)"
   ]
  },
  {
   "cell_type": "code",
   "execution_count": 11,
   "id": "80d5cf2f-b7ad-4f89-8cae-95af2b7ee9fd",
   "metadata": {},
   "outputs": [
    {
     "data": {
      "text/plain": [
       "(9994, 26)"
      ]
     },
     "execution_count": 11,
     "metadata": {},
     "output_type": "execute_result"
    }
   ],
   "source": [
    "df.shape"
   ]
  },
  {
   "cell_type": "code",
   "execution_count": 12,
   "id": "c1f8a606-57f5-462b-9377-45fe99597fb9",
   "metadata": {},
   "outputs": [
    {
     "data": {
      "text/plain": [
       "row                0\n",
       "orderid            0\n",
       "orderdate          0\n",
       "ordermonth         0\n",
       "ship_date          0\n",
       "delay              0\n",
       "ship_mode          0\n",
       "cust_id            0\n",
       "cust_name          0\n",
       "segment            0\n",
       "country            0\n",
       "city               0\n",
       "state              0\n",
       "postal_code        0\n",
       "region             0\n",
       "product_id         0\n",
       "category           0\n",
       "sub_category       0\n",
       "product_name       0\n",
       "sales             10\n",
       "quantity          10\n",
       "discount          11\n",
       "profit            16\n",
       "Unnamed: 23     9994\n",
       "Unnamed: 24     9994\n",
       "Unnamed: 25     9993\n",
       "dtype: int64"
      ]
     },
     "execution_count": 12,
     "metadata": {},
     "output_type": "execute_result"
    }
   ],
   "source": [
    "df.isnull().sum()"
   ]
  },
  {
   "cell_type": "code",
   "execution_count": 13,
   "id": "06cb54db-8096-4206-af00-9e3edfa8aec4",
   "metadata": {},
   "outputs": [],
   "source": [
    "df.drop(['Unnamed: 23', 'Unnamed: 24', 'Unnamed: 25'], axis=1, inplace=True)"
   ]
  },
  {
   "cell_type": "code",
   "execution_count": 14,
   "id": "e6e688ed-bcea-43ab-a0c1-e9d18fba218c",
   "metadata": {},
   "outputs": [
    {
     "data": {
      "text/plain": [
       "Index(['row', 'orderid', 'orderdate', 'ordermonth', 'ship_date', 'delay',\n",
       "       'ship_mode', 'cust_id', 'cust_name', 'segment', 'country', 'city',\n",
       "       'state', 'postal_code', 'region', 'product_id', 'category',\n",
       "       'sub_category', 'product_name', 'sales', 'quantity', 'discount',\n",
       "       'profit'],\n",
       "      dtype='object')"
      ]
     },
     "execution_count": 14,
     "metadata": {},
     "output_type": "execute_result"
    }
   ],
   "source": [
    "df.columns"
   ]
  },
  {
   "cell_type": "code",
   "execution_count": 15,
   "id": "0c397a96-fd5a-4fbf-90f9-8be51b5e92fe",
   "metadata": {},
   "outputs": [],
   "source": [
    "df.fillna({\n",
    "    'sales': df['sales'].mean(),\n",
    "    'quantity': df['quantity'].median(),\n",
    "    'discount': df['discount'].mean(),\n",
    "    'profit': df['profit'].median()\n",
    "}, inplace=True)"
   ]
  },
  {
   "cell_type": "code",
   "execution_count": 16,
   "id": "c6674260-5b23-4119-9b9e-ce51c61a9147",
   "metadata": {},
   "outputs": [
    {
     "data": {
      "text/plain": [
       "row             0\n",
       "orderid         0\n",
       "orderdate       0\n",
       "ordermonth      0\n",
       "ship_date       0\n",
       "delay           0\n",
       "ship_mode       0\n",
       "cust_id         0\n",
       "cust_name       0\n",
       "segment         0\n",
       "country         0\n",
       "city            0\n",
       "state           0\n",
       "postal_code     0\n",
       "region          0\n",
       "product_id      0\n",
       "category        0\n",
       "sub_category    0\n",
       "product_name    0\n",
       "sales           0\n",
       "quantity        0\n",
       "discount        0\n",
       "profit          0\n",
       "dtype: int64"
      ]
     },
     "execution_count": 16,
     "metadata": {},
     "output_type": "execute_result"
    }
   ],
   "source": [
    "df.isnull().sum()"
   ]
  },
  {
   "cell_type": "code",
   "execution_count": 17,
   "id": "71d11ec9-53b6-4d17-9924-c4bb13dead5c",
   "metadata": {},
   "outputs": [
    {
     "name": "stdout",
     "output_type": "stream",
     "text": [
      "<class 'pandas.core.frame.DataFrame'>\n",
      "Index: 9994 entries, 0 to 9993\n",
      "Data columns (total 23 columns):\n",
      " #   Column        Non-Null Count  Dtype  \n",
      "---  ------        --------------  -----  \n",
      " 0   row           9994 non-null   int64  \n",
      " 1   orderid       9994 non-null   object \n",
      " 2   orderdate     9994 non-null   object \n",
      " 3   ordermonth    9994 non-null   object \n",
      " 4   ship_date     9994 non-null   object \n",
      " 5   delay         9994 non-null   int64  \n",
      " 6   ship_mode     9994 non-null   object \n",
      " 7   cust_id       9994 non-null   object \n",
      " 8   cust_name     9994 non-null   object \n",
      " 9   segment       9994 non-null   object \n",
      " 10  country       9994 non-null   object \n",
      " 11  city          9994 non-null   object \n",
      " 12  state         9994 non-null   object \n",
      " 13  postal_code   9994 non-null   int64  \n",
      " 14  region        9994 non-null   object \n",
      " 15  product_id    9994 non-null   object \n",
      " 16  category      9994 non-null   object \n",
      " 17  sub_category  9994 non-null   object \n",
      " 18  product_name  9994 non-null   object \n",
      " 19  sales         9994 non-null   float64\n",
      " 20  quantity      9994 non-null   float64\n",
      " 21  discount      9994 non-null   float64\n",
      " 22  profit        9994 non-null   float64\n",
      "dtypes: float64(4), int64(3), object(16)\n",
      "memory usage: 1.8+ MB\n"
     ]
    }
   ],
   "source": [
    "df.info()"
   ]
  },
  {
   "cell_type": "code",
   "execution_count": 18,
   "id": "0a54af1e-a738-4559-a320-faeaabf6a169",
   "metadata": {},
   "outputs": [],
   "source": [
    "df.rename(columns={'ship_date':'shipdate', 'ship_mode':'shipmode','cust_id':'customerid','cust_name':'customername','postal_code':'postalcode', 'product_id':'productid',\n",
    "'sub_category': 'subcategory', 'product_name':'productname'},inplace= True)"
   ]
  },
  {
   "cell_type": "code",
   "execution_count": 19,
   "id": "e2f9cc6f-b1bf-484e-9c89-f13890a14622",
   "metadata": {},
   "outputs": [
    {
     "data": {
      "text/plain": [
       "Index(['row', 'orderid', 'orderdate', 'ordermonth', 'shipdate', 'delay',\n",
       "       'shipmode', 'customerid', 'customername', 'segment', 'country', 'city',\n",
       "       'state', 'postalcode', 'region', 'productid', 'category', 'subcategory',\n",
       "       'productname', 'sales', 'quantity', 'discount', 'profit'],\n",
       "      dtype='object')"
      ]
     },
     "execution_count": 19,
     "metadata": {},
     "output_type": "execute_result"
    }
   ],
   "source": [
    "df.columns"
   ]
  },
  {
   "cell_type": "code",
   "execution_count": 20,
   "id": "64f9994c-6dbe-41c8-a3c5-25796e833f6f",
   "metadata": {},
   "outputs": [],
   "source": [
    "data=(df[['profit','sales','discount']]).round(1)"
   ]
  },
  {
   "cell_type": "code",
   "execution_count": 21,
   "id": "bfdfb020-112d-4b0b-854d-9bd776bd7036",
   "metadata": {},
   "outputs": [
    {
     "name": "stdout",
     "output_type": "stream",
     "text": [
      "      profit  sales  discount\n",
      "0       41.9  262.0       0.0\n",
      "1      219.6  731.9       0.0\n",
      "2        6.9   14.6       0.0\n",
      "3     -383.0  957.6       0.4\n",
      "4        2.5   22.4       0.2\n",
      "...      ...    ...       ...\n",
      "9989     4.1   25.2       0.2\n",
      "9990    15.6   92.0       0.0\n",
      "9991    19.4  258.6       0.2\n",
      "9992    13.3   29.6       0.0\n",
      "9993    72.9  243.2       0.0\n",
      "\n",
      "[9994 rows x 3 columns]\n"
     ]
    }
   ],
   "source": [
    "print(data)"
   ]
  },
  {
   "cell_type": "code",
   "execution_count": 22,
   "id": "f16bf5bc-78bb-4203-9eee-4ae3d10e47ed",
   "metadata": {},
   "outputs": [],
   "source": [
    "df.drop(['profit', 'sales', 'discount'], axis=1, inplace=True)"
   ]
  },
  {
   "cell_type": "code",
   "execution_count": 23,
   "id": "07fe14b7-e512-4a56-830a-bf4478df41ab",
   "metadata": {},
   "outputs": [
    {
     "data": {
      "text/plain": [
       "Index(['row', 'orderid', 'orderdate', 'ordermonth', 'shipdate', 'delay',\n",
       "       'shipmode', 'customerid', 'customername', 'segment', 'country', 'city',\n",
       "       'state', 'postalcode', 'region', 'productid', 'category', 'subcategory',\n",
       "       'productname', 'quantity'],\n",
       "      dtype='object')"
      ]
     },
     "execution_count": 23,
     "metadata": {},
     "output_type": "execute_result"
    }
   ],
   "source": [
    "df.columns"
   ]
  },
  {
   "cell_type": "code",
   "execution_count": 24,
   "id": "1795b2d3-7cb6-4dae-9c04-baf427152854",
   "metadata": {},
   "outputs": [],
   "source": [
    "data_new = pd.concat([df, data], axis=1)"
   ]
  },
  {
   "cell_type": "code",
   "execution_count": 25,
   "id": "75359a82-8f52-4f3f-a8ac-1c433446f13c",
   "metadata": {},
   "outputs": [
    {
     "data": {
      "text/plain": [
       "Index(['row', 'orderid', 'orderdate', 'ordermonth', 'shipdate', 'delay',\n",
       "       'shipmode', 'customerid', 'customername', 'segment', 'country', 'city',\n",
       "       'state', 'postalcode', 'region', 'productid', 'category', 'subcategory',\n",
       "       'productname', 'quantity', 'profit', 'sales', 'discount'],\n",
       "      dtype='object')"
      ]
     },
     "execution_count": 25,
     "metadata": {},
     "output_type": "execute_result"
    }
   ],
   "source": [
    "data_new.columns"
   ]
  },
  {
   "cell_type": "code",
   "execution_count": 26,
   "id": "c5a1c828-c985-4989-b0e3-85901faaf644",
   "metadata": {},
   "outputs": [
    {
     "name": "stdout",
     "output_type": "stream",
     "text": [
      "      profit  sales  discount\n",
      "0       41.9  262.0       0.0\n",
      "1      219.6  731.9       0.0\n",
      "2        6.9   14.6       0.0\n",
      "3     -383.0  957.6       0.4\n",
      "4        2.5   22.4       0.2\n",
      "...      ...    ...       ...\n",
      "9989     4.1   25.2       0.2\n",
      "9990    15.6   92.0       0.0\n",
      "9991    19.4  258.6       0.2\n",
      "9992    13.3   29.6       0.0\n",
      "9993    72.9  243.2       0.0\n",
      "\n",
      "[9994 rows x 3 columns]\n"
     ]
    }
   ],
   "source": [
    "print(data_new[['profit', 'sales', 'discount']])"
   ]
  },
  {
   "cell_type": "code",
   "execution_count": 27,
   "id": "98f4d854-d5de-4b9f-9f8f-8f9ff76cde23",
   "metadata": {},
   "outputs": [
    {
     "data": {
      "text/plain": [
       "(9994, 23)"
      ]
     },
     "execution_count": 27,
     "metadata": {},
     "output_type": "execute_result"
    }
   ],
   "source": [
    "data_new.shape"
   ]
  },
  {
   "cell_type": "code",
   "execution_count": 28,
   "id": "2b2ca52a-5349-44d5-aa12-b992dd16dc1d",
   "metadata": {},
   "outputs": [
    {
     "name": "stdout",
     "output_type": "stream",
     "text": [
      "<class 'pandas.core.frame.DataFrame'>\n",
      "Index: 9994 entries, 0 to 9993\n",
      "Data columns (total 23 columns):\n",
      " #   Column        Non-Null Count  Dtype  \n",
      "---  ------        --------------  -----  \n",
      " 0   row           9994 non-null   int64  \n",
      " 1   orderid       9994 non-null   object \n",
      " 2   orderdate     9994 non-null   object \n",
      " 3   ordermonth    9994 non-null   object \n",
      " 4   shipdate      9994 non-null   object \n",
      " 5   delay         9994 non-null   int64  \n",
      " 6   shipmode      9994 non-null   object \n",
      " 7   customerid    9994 non-null   object \n",
      " 8   customername  9994 non-null   object \n",
      " 9   segment       9994 non-null   object \n",
      " 10  country       9994 non-null   object \n",
      " 11  city          9994 non-null   object \n",
      " 12  state         9994 non-null   object \n",
      " 13  postalcode    9994 non-null   int64  \n",
      " 14  region        9994 non-null   object \n",
      " 15  productid     9994 non-null   object \n",
      " 16  category      9994 non-null   object \n",
      " 17  subcategory   9994 non-null   object \n",
      " 18  productname   9994 non-null   object \n",
      " 19  quantity      9994 non-null   float64\n",
      " 20  profit        9994 non-null   float64\n",
      " 21  sales         9994 non-null   float64\n",
      " 22  discount      9994 non-null   float64\n",
      "dtypes: float64(4), int64(3), object(16)\n",
      "memory usage: 1.8+ MB\n"
     ]
    }
   ],
   "source": [
    "data_new.info()"
   ]
  },
  {
   "cell_type": "code",
   "execution_count": 29,
   "id": "7f1755af-1a16-4cf0-a3ad-93e7f2dfaa96",
   "metadata": {},
   "outputs": [],
   "source": [
    "data_new['orderdate'] = pd.to_datetime(data_new['orderdate'], format='mixed', dayfirst=True)\n",
    "data_new['shipdate'] = pd.to_datetime(data_new['shipdate'], format='mixed', dayfirst=True)"
   ]
  },
  {
   "cell_type": "code",
   "execution_count": 30,
   "id": "728f60d5-22d5-4d8f-8786-6ff011b0feb8",
   "metadata": {},
   "outputs": [
    {
     "data": {
      "text/plain": [
       "array([False, False, False, False, False,  True, False, False, False,\n",
       "       False, False, False, False, False, False, False, False, False,\n",
       "       False, False, False, False, False])"
      ]
     },
     "execution_count": 30,
     "metadata": {},
     "output_type": "execute_result"
    }
   ],
   "source": [
    "data_new.columns == 'delay'"
   ]
  },
  {
   "cell_type": "code",
   "execution_count": 31,
   "id": "97edda38-65d3-4470-bc92-9cfaa27146db",
   "metadata": {},
   "outputs": [
    {
     "name": "stdout",
     "output_type": "stream",
     "text": [
      "<class 'pandas.core.frame.DataFrame'>\n",
      "Index: 9994 entries, 0 to 9993\n",
      "Data columns (total 23 columns):\n",
      " #   Column        Non-Null Count  Dtype         \n",
      "---  ------        --------------  -----         \n",
      " 0   row           9994 non-null   int64         \n",
      " 1   orderid       9994 non-null   object        \n",
      " 2   orderdate     9994 non-null   datetime64[ns]\n",
      " 3   ordermonth    9994 non-null   object        \n",
      " 4   shipdate      9994 non-null   datetime64[ns]\n",
      " 5   delay         9994 non-null   int64         \n",
      " 6   shipmode      9994 non-null   object        \n",
      " 7   customerid    9994 non-null   object        \n",
      " 8   customername  9994 non-null   object        \n",
      " 9   segment       9994 non-null   object        \n",
      " 10  country       9994 non-null   object        \n",
      " 11  city          9994 non-null   object        \n",
      " 12  state         9994 non-null   object        \n",
      " 13  postalcode    9994 non-null   int64         \n",
      " 14  region        9994 non-null   object        \n",
      " 15  productid     9994 non-null   object        \n",
      " 16  category      9994 non-null   object        \n",
      " 17  subcategory   9994 non-null   object        \n",
      " 18  productname   9994 non-null   object        \n",
      " 19  quantity      9994 non-null   float64       \n",
      " 20  profit        9994 non-null   float64       \n",
      " 21  sales         9994 non-null   float64       \n",
      " 22  discount      9994 non-null   float64       \n",
      "dtypes: datetime64[ns](2), float64(4), int64(3), object(14)\n",
      "memory usage: 1.8+ MB\n"
     ]
    }
   ],
   "source": [
    "data_new.info()"
   ]
  },
  {
   "cell_type": "code",
   "execution_count": 32,
   "id": "24c6c92a-01e2-4874-b8e4-c3f9a94bd5e9",
   "metadata": {},
   "outputs": [],
   "source": [
    "data_new['delay']=data_new['orderdate']- data_new['shipdate']"
   ]
  },
  {
   "cell_type": "code",
   "execution_count": 33,
   "id": "5db42911-f9a5-401f-8c71-631128e67a1e",
   "metadata": {},
   "outputs": [
    {
     "data": {
      "text/plain": [
       "Index(['row', 'orderid', 'orderdate', 'ordermonth', 'shipdate', 'delay',\n",
       "       'shipmode', 'customerid', 'customername', 'segment', 'country', 'city',\n",
       "       'state', 'postalcode', 'region', 'productid', 'category', 'subcategory',\n",
       "       'productname', 'quantity', 'profit', 'sales', 'discount'],\n",
       "      dtype='object')"
      ]
     },
     "execution_count": 33,
     "metadata": {},
     "output_type": "execute_result"
    }
   ],
   "source": [
    "data_new.columns"
   ]
  },
  {
   "cell_type": "code",
   "execution_count": 34,
   "id": "1e19068c-cc8d-4d08-a5ed-4bbf6303e932",
   "metadata": {},
   "outputs": [
    {
     "name": "stdout",
     "output_type": "stream",
     "text": [
      "profit\n",
      "-4.8       15\n",
      "-1.4       15\n",
      "-2.7       15\n",
      "-3.0       13\n",
      "-2.0       13\n",
      "           ..\n",
      "-1480.0     1\n",
      "-427.4      1\n",
      "-40.8       1\n",
      "-46.9       1\n",
      "-54.3       1\n",
      "Name: count, Length: 829, dtype: int64\n"
     ]
    }
   ],
   "source": [
    "filtered = data_new[data_new['profit'] < 0]\n",
    "print(filtered['profit'].value_counts())"
   ]
  },
  {
   "cell_type": "code",
   "execution_count": 35,
   "id": "ba79e1de-0a35-4914-9819-2634e52bd4d9",
   "metadata": {},
   "outputs": [
    {
     "name": "stdout",
     "output_type": "stream",
     "text": [
      "1855\n"
     ]
    }
   ],
   "source": [
    "print(len(filtered))"
   ]
  },
  {
   "cell_type": "code",
   "execution_count": 36,
   "id": "cad77560-33ec-4657-b6a2-7314bb2d7e50",
   "metadata": {},
   "outputs": [
    {
     "name": "stdout",
     "output_type": "stream",
     "text": [
      "    region     sales\n",
      "0  Central  501006.8\n",
      "1     East  678607.3\n",
      "2    South  391728.8\n",
      "3     West  724755.3\n"
     ]
    }
   ],
   "source": [
    "sales_summary= data_new.groupby(\"region\")[\"sales\"].sum().reset_index()\n",
    "print(sales_summary)"
   ]
  },
  {
   "cell_type": "code",
   "execution_count": 37,
   "id": "26d1535c-e883-4974-9eef-b92c156b7dcd",
   "metadata": {},
   "outputs": [],
   "source": [
    "import matplotlib.pyplot as plt"
   ]
  },
  {
   "cell_type": "code",
   "execution_count": 38,
   "id": "98ae2ead-c40f-4bb3-8dde-f8b7551edeeb",
   "metadata": {},
   "outputs": [
    {
     "data": {
      "image/png": "[encoded data removed]",
      "text/plain": [
       "<Figure size 1000x600 with 1 Axes>"
      ]
     },
     "metadata": {},
     "output_type": "display_data"
    }
   ],
   "source": [
    "plt.figure(figsize=(10, 6))\n",
    "plt.bar(sales_summary['region'], sales_summary['sales'], color= 'green')\n",
    "plt.title(\"Total Sales by Region\")\n",
    "plt.xlabel(\"Region\")\n",
    "plt.ylabel(\"Total Sales\")\n",
    "plt.grid(axis=\"y\", linestyle= \"--\", alpha=0.7)\n",
    "plt.show()"
   ]
  },
  {
   "cell_type": "code",
   "execution_count": 39,
   "id": "9da52605-2707-4db4-bf4e-b7d1ca61a4eb",
   "metadata": {},
   "outputs": [
    {
     "name": "stdout",
     "output_type": "stream",
     "text": [
      "    region  quantity\n",
      "0  Central    8766.0\n",
      "1     East   10622.0\n",
      "2    South    6209.0\n",
      "3     West   12263.0\n"
     ]
    }
   ],
   "source": [
    "quantity_summary= data_new.groupby(\"region\")[\"quantity\"].sum().reset_index()\n",
    "print(quantity_summary)"
   ]
  },
  {
   "cell_type": "code",
   "execution_count": 40,
   "id": "da17b776-052a-4d2a-8c06-02c8c05784db",
   "metadata": {},
   "outputs": [
    {
     "data": {
      "image/png": "[encoded data removed]",
      "text/plain": [
       "<Figure size 600x400 with 1 Axes>"
      ]
     },
     "metadata": {},
     "output_type": "display_data"
    }
   ],
   "source": [
    "plt.figure(figsize=(6, 4))\n",
    "plt.barh(quantity_summary['region'], quantity_summary['quantity'], color='orange')\n",
    "plt.title(\"Total Quantity by Region\")\n",
    "plt.xlabel(\"Total Quantity\")\n",
    "plt.ylabel(\"Region\")\n",
    "plt.show()"
   ]
  },
  {
   "cell_type": "markdown",
   "id": "29324b39-661e-4bd2-88b9-78125d797034",
   "metadata": {},
   "source": [
    "Load the dataset for further analysis"
   ]
  },
  {
   "cell_type": "code",
   "execution_count": 41,
   "id": "b1f39061-3ced-4947-b63d-5ca7c4d938f4",
   "metadata": {},
   "outputs": [],
   "source": [
    "data_new.to_csv('detail.csv',index=False)"
   ]
  },
  {
   "cell_type": "code",
   "execution_count": null,
   "id": "90355db3-aaf2-42d5-aa1b-9d7bdbb16d68",
   "metadata": {},
   "outputs": [],
   "source": []
  }
 ],
 "metadata": {
  "kernelspec": {
   "display_name": "Python 3 (ipykernel)",
   "language": "python",
   "name": "python3"
  },
  "language_info": {
   "codemirror_mode": {
    "name": "ipython",
    "version": 3
   },
   "file_extension": ".py",
   "mimetype": "text/x-python",
   "name": "python",
   "nbconvert_exporter": "python",
   "pygments_lexer": "ipython3",
   "version": "3.10.2"
  }
 },
 "nbformat": 4,
 "nbformat_minor": 5
}
